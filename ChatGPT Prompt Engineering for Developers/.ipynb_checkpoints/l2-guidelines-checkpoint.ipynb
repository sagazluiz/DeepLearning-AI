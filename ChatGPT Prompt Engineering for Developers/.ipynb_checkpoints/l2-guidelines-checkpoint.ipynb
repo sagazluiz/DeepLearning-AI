{
 "cells": [
  {
   "cell_type": "markdown",
   "id": "e27c5c80",
   "metadata": {},
   "source": [
    "source: https://learn.deeplearning.ai/chatgpt-prompt-eng/lesson/2/guidelines"
   ]
  },
  {
   "cell_type": "code",
   "execution_count": 1,
   "id": "1c6f173f",
   "metadata": {
    "ExecuteTime": {
     "end_time": "2023-09-16T14:11:46.059770Z",
     "start_time": "2023-09-16T14:11:43.911393Z"
    }
   },
   "outputs": [
    {
     "name": "stdout",
     "output_type": "stream",
     "text": [
      "Package                           Version     Editable project location\r\n",
      "--------------------------------- ----------- -----------------------------------------------\r\n",
      "aiobotocore                       2.5.0\r\n",
      "aiofiles                          22.1.0\r\n",
      "aiohttp                           3.8.4\r\n",
      "aioitertools                      0.11.0\r\n",
      "aiosignal                         1.3.1\r\n",
      "aiosqlite                         0.18.0\r\n",
      "alabaster                         0.7.12\r\n",
      "anaconda-client                   1.11.1\r\n",
      "anaconda-navigator                2.4.2\r\n",
      "anaconda-project                  0.11.1\r\n",
      "anyio                             3.5.0\r\n",
      "appdirs                           1.4.4\r\n",
      "applaunchservices                 0.3.0\r\n",
      "appnope                           0.1.2\r\n",
      "appscript                         1.1.2\r\n",
      "argon2-cffi                       21.3.0\r\n",
      "argon2-cffi-bindings              21.2.0\r\n",
      "arrow                             1.2.3\r\n",
      "astroid                           2.14.2\r\n",
      "astropy                           5.1\r\n",
      "asttokens                         2.0.5\r\n",
      "async-timeout                     4.0.2\r\n",
      "atomicwrites                      1.4.0\r\n",
      "attrs                             22.1.0\r\n",
      "Automat                           20.2.0\r\n",
      "autopep8                          1.6.0\r\n",
      "azure-core                        1.26.4\r\n",
      "azure-storage-blob                12.16.0\r\n",
      "Babel                             2.11.0\r\n",
      "backcall                          0.2.0\r\n",
      "backports.functools-lru-cache     1.6.4\r\n",
      "backports.tempfile                1.0\r\n",
      "backports.weakref                 1.0.post1\r\n",
      "bcrypt                            3.2.0\r\n",
      "beautifulsoup4                    4.12.2\r\n",
      "binaryornot                       0.4.4\r\n",
      "black                             0.0\r\n",
      "bleach                            4.1.0\r\n",
      "blis                              0.7.10\r\n",
      "bokeh                             2.4.3\r\n",
      "boltons                           23.0.0\r\n",
      "botocore                          1.29.76\r\n",
      "Bottleneck                        1.3.5\r\n",
      "brotlipy                          0.7.0\r\n",
      "catalogue                         2.0.9\r\n",
      "certifi                           2023.7.22\r\n",
      "cffi                              1.15.1\r\n",
      "chardet                           4.0.0\r\n",
      "charset-normalizer                2.0.4\r\n",
      "click                             8.0.4\r\n",
      "cloudpickle                       2.2.1\r\n",
      "clyent                            1.2.2\r\n",
      "colorama                          0.4.6\r\n",
      "colorcet                          3.0.1\r\n",
      "comm                              0.1.2\r\n",
      "conda                             23.7.3\r\n",
      "conda-build                       3.23.3\r\n",
      "conda-content-trust               0.1.3\r\n",
      "conda-pack                        0.6.0\r\n",
      "conda-package-handling            2.2.0\r\n",
      "conda_package_streaming           0.9.0\r\n",
      "conda-repo-cli                    1.0.27\r\n",
      "conda-token                       0.4.0\r\n",
      "conda-verify                      3.4.2\r\n",
      "confection                        0.1.0\r\n",
      "constantly                        15.1.0\r\n",
      "contourpy                         1.0.5\r\n",
      "cookiecutter                      1.7.3\r\n",
      "cryptography                      39.0.1\r\n",
      "cssselect                         1.1.0\r\n",
      "cycler                            0.11.0\r\n",
      "cymem                             2.0.7\r\n",
      "cytoolz                           0.12.0\r\n",
      "dask                              2022.7.0\r\n",
      "datacompy                         0.9.0\r\n",
      "datashader                        0.14.4\r\n",
      "datashape                         0.5.4\r\n",
      "debugpy                           1.6.7\r\n",
      "decorator                         5.1.1\r\n",
      "defusedxml                        0.7.1\r\n",
      "diff-match-patch                  20200713\r\n",
      "dill                              0.3.6\r\n",
      "distributed                       2022.7.0\r\n",
      "docker                            6.0.1\r\n",
      "docstring-to-markdown             0.11\r\n",
      "docutils                          0.18.1\r\n",
      "dundie                            0.1.0       /Users/r337555/Projects-Personal/dundie-rewards\r\n",
      "entrypoints                       0.4\r\n",
      "et-xmlfile                        1.1.0\r\n",
      "executing                         0.8.3\r\n",
      "fastjsonschema                    2.16.2\r\n",
      "filelock                          3.9.0\r\n",
      "findspark                         2.0.1\r\n",
      "flake8                            6.0.0\r\n",
      "Flask                             2.2.2\r\n",
      "flit_core                         3.6.0\r\n",
      "fonttools                         4.25.0\r\n",
      "frozenlist                        1.3.3\r\n",
      "fsspec                            2023.4.0\r\n",
      "future                            0.18.3\r\n",
      "gensim                            4.3.0\r\n",
      "glob2                             0.7\r\n",
      "gmpy2                             2.1.2\r\n",
      "greenlet                          2.0.1\r\n",
      "h11                               0.12.0\r\n",
      "h5py                              3.7.0\r\n",
      "HeapDict                          1.0.1\r\n",
      "holoviews                         1.15.4\r\n",
      "htmlmin                           0.1.12\r\n",
      "httpcore                          0.14.7\r\n",
      "httpx                             0.22.0\r\n",
      "huggingface-hub                   0.10.1\r\n",
      "hvplot                            0.8.2\r\n",
      "hyperlink                         21.0.0\r\n",
      "idna                              3.4\r\n",
      "ijson                             3.2.0.post0\r\n",
      "imagecodecs                       2021.8.26\r\n",
      "ImageHash                         4.3.1\r\n",
      "imageio                           2.26.0\r\n",
      "imagesize                         1.4.1\r\n",
      "imbalanced-learn                  0.10.1\r\n",
      "importlib-metadata                6.0.0\r\n",
      "incremental                       21.3.0\r\n",
      "inflection                        0.5.1\r\n",
      "iniconfig                         1.1.1\r\n",
      "intake                            0.6.7\r\n",
      "intervaltree                      3.1.0\r\n",
      "ipykernel                         6.19.2\r\n",
      "ipython                           8.12.0\r\n",
      "ipython-genutils                  0.2.0\r\n",
      "ipywidgets                        8.0.4\r\n",
      "isodate                           0.6.1\r\n",
      "isort                             5.9.3\r\n",
      "itemadapter                       0.3.0\r\n",
      "itemloaders                       1.0.4\r\n",
      "itsdangerous                      2.0.1\r\n",
      "jaraco.classes                    3.2.1\r\n",
      "jedi                              0.18.1\r\n",
      "jellyfish                         0.9.0\r\n",
      "Jinja2                            3.1.2\r\n",
      "jinja2-time                       0.2.0\r\n",
      "jmespath                          0.10.0\r\n",
      "joblib                            1.2.0\r\n",
      "json5                             0.9.6\r\n",
      "jsonpatch                         1.32\r\n",
      "jsonpointer                       2.1\r\n",
      "jsonschema                        4.17.3\r\n",
      "jupyter                           1.0.0\r\n",
      "jupyter_client                    7.3.4\r\n",
      "jupyter-console                   6.6.3\r\n",
      "jupyter-contrib-core              0.4.0\r\n",
      "jupyter-contrib-nbextensions      0.7.0\r\n",
      "jupyter_core                      5.3.0\r\n",
      "jupyter-events                    0.6.3\r\n",
      "jupyter-highlight-selected-word   0.2.0\r\n",
      "jupyter-latex-envs                1.4.6\r\n",
      "jupyter-nbextensions-configurator 0.6.1\r\n",
      "jupyter-server                    1.23.4\r\n",
      "jupyter_server_fileid             0.9.0\r\n",
      "jupyter_server_ydoc               0.8.0\r\n",
      "jupyter-ydoc                      0.2.4\r\n",
      "jupyterlab                        3.6.3\r\n",
      "jupyterlab-pygments               0.1.2\r\n",
      "jupyterlab_server                 2.19.0\r\n",
      "jupyterlab-widgets                3.0.5\r\n",
      "keyring                           23.13.1\r\n",
      "kiwisolver                        1.4.4\r\n",
      "langcodes                         3.3.0\r\n",
      "lazy-object-proxy                 1.6.0\r\n",
      "libarchive-c                      2.9\r\n",
      "llvmlite                          0.40.0\r\n",
      "lmdb                              1.4.1\r\n",
      "locket                            1.0.0\r\n",
      "lxml                              4.9.2\r\n",
      "lz4                               4.3.2\r\n",
      "Markdown                          3.4.1\r\n",
      "MarkupSafe                        2.1.1\r\n",
      "matplotlib                        3.6.3\r\n",
      "matplotlib-inline                 0.1.6\r\n",
      "matplotlib-venn                   0.11.9\r\n",
      "mccabe                            0.7.0\r\n",
      "mistune                           0.8.4\r\n",
      "mkl-fft                           1.3.6\r\n",
      "mkl-random                        1.2.2\r\n",
      "mkl-service                       2.4.0\r\n",
      "mock                              4.0.3\r\n",
      "more-itertools                    8.12.0\r\n",
      "mpmath                            1.2.1\r\n",
      "msgpack                           1.0.3\r\n",
      "multidict                         6.0.4\r\n",
      "multimethod                       1.9.1\r\n",
      "multipledispatch                  0.6.0\r\n",
      "munkres                           1.1.4\r\n",
      "murmurhash                        1.0.9\r\n",
      "mypy-extensions                   0.4.3\r\n",
      "navigator-updater                 0.3.0\r\n",
      "nbclassic                         0.5.5\r\n",
      "nbclient                          0.5.13\r\n",
      "nbconvert                         6.5.4\r\n",
      "nbformat                          5.7.0\r\n",
      "nest-asyncio                      1.5.6\r\n",
      "networkx                          3.1\r\n",
      "nltk                              3.8.1\r\n",
      "notebook                          6.5.4\r\n",
      "notebook_shim                     0.2.2\r\n",
      "numba                             0.57.0\r\n",
      "numexpr                           2.8.4\r\n",
      "numpy                             1.24.3\r\n",
      "numpydoc                          1.5.0\r\n",
      "openai                            0.28.0\r\n",
      "openpyxl                          3.0.10\r\n",
      "ordered-set                       4.1.0\r\n",
      "packaging                         23.0\r\n",
      "pandarallel                       1.6.4\r\n",
      "pandas                            1.5.3\r\n",
      "pandocfilters                     1.5.0\r\n",
      "panel                             0.14.3\r\n",
      "param                             1.13.0\r\n",
      "parsel                            1.6.0\r\n",
      "parso                             0.8.3\r\n",
      "partd                             1.2.0\r\n",
      "pathlib                           1.0.1\r\n",
      "pathspec                          0.10.3\r\n",
      "pathy                             0.10.2\r\n",
      "patsy                             0.5.3\r\n",
      "pep8                              1.7.1\r\n",
      "pexpect                           4.8.0\r\n",
      "phik                              0.12.3\r\n",
      "pickleshare                       0.7.5\r\n",
      "Pillow                            9.4.0\r\n",
      "pip                               23.2.1\r\n",
      "pkginfo                           1.9.6\r\n",
      "platformdirs                      2.5.2\r\n",
      "plotly                            5.9.0\r\n",
      "pluggy                            1.0.0\r\n",
      "ply                               3.11\r\n",
      "pooch                             1.4.0\r\n",
      "poyo                              0.5.0\r\n",
      "preshed                           3.0.8\r\n",
      "prometheus-client                 0.14.1\r\n",
      "prompt-toolkit                    3.0.36\r\n",
      "Protego                           0.1.16\r\n",
      "psutil                            5.9.0\r\n",
      "pt-core-news-sm                   3.6.0\r\n",
      "ptyprocess                        0.7.0\r\n",
      "pure-eval                         0.2.2\r\n",
      "py                                1.11.0\r\n",
      "pyarrow                           11.0.0\r\n",
      "pyasn1                            0.4.8\r\n",
      "pyasn1-modules                    0.2.8\r\n",
      "pycodestyle                       2.10.0\r\n",
      "pycosat                           0.6.4\r\n",
      "pycparser                         2.21\r\n",
      "pycryptodome                      3.17\r\n",
      "pyct                              0.5.0\r\n",
      "pycurl                            7.45.2\r\n",
      "pydantic                          1.10.7\r\n",
      "PyDispatcher                      2.0.5\r\n",
      "pydocstyle                        6.3.0\r\n",
      "pyerfa                            2.0.0\r\n",
      "pyflakes                          3.0.1\r\n",
      "Pygments                          2.15.1\r\n",
      "PyHamcrest                        2.0.2\r\n",
      "PyJWT                             2.4.0\r\n",
      "pylint                            2.16.2\r\n",
      "pylint-venv                       2.3.0\r\n",
      "pyls-spyder                       0.4.0\r\n",
      "pymssql                           2.2.7\r\n",
      "pyobjc-core                       9.0\r\n",
      "pyobjc-framework-Cocoa            9.0\r\n",
      "pyobjc-framework-CoreServices     9.0\r\n",
      "pyobjc-framework-FSEvents         9.0\r\n",
      "pyodbc                            4.0.34\r\n",
      "pyOpenSSL                         23.0.0\r\n",
      "pyparsing                         3.0.9\r\n",
      "PyQt5-sip                         12.11.0\r\n",
      "pyrsistent                        0.18.0\r\n",
      "PySocks                           1.7.1\r\n",
      "pytest                            7.1.2\r\n",
      "python-dateutil                   2.8.2\r\n",
      "python-dotenv                     1.0.0\r\n",
      "python-json-logger                2.0.7\r\n",
      "python-lsp-black                  1.2.1\r\n",
      "python-lsp-jsonrpc                1.0.0\r\n",
      "python-lsp-server                 1.7.2\r\n",
      "python-slugify                    5.0.2\r\n",
      "python-snappy                     0.6.1\r\n",
      "pytoolconfig                      1.2.5\r\n",
      "pytz                              2022.7\r\n",
      "pyviz-comms                       2.3.0\r\n",
      "PyWavelets                        1.4.1\r\n",
      "PyYAML                            6.0\r\n",
      "pyzmq                             23.2.0\r\n",
      "QDarkStyle                        3.0.2\r\n",
      "qstylizer                         0.2.2\r\n",
      "QtAwesome                         1.2.2\r\n",
      "qtconsole                         5.4.2\r\n",
      "QtPy                              2.2.0\r\n",
      "queuelib                          1.5.0\r\n",
      "regex                             2022.7.9\r\n",
      "requests                          2.28.1\r\n",
      "requests-file                     1.5.1\r\n",
      "rfc3339-validator                 0.1.4\r\n",
      "rfc3986                           1.5.0\r\n",
      "rfc3986-validator                 0.1.1\r\n",
      "rope                              1.7.0\r\n",
      "Rtree                             1.0.1\r\n",
      "ruamel.yaml                       0.17.21\r\n",
      "ruamel.yaml.clib                  0.2.6\r\n",
      "ruamel-yaml-conda                 0.17.21\r\n",
      "s3fs                              2023.4.0\r\n",
      "scikit-image                      0.19.3\r\n",
      "scikit-learn                      1.2.1\r\n",
      "scipy                             1.10.1\r\n",
      "Scrapy                            2.8.0\r\n",
      "seaborn                           0.12.2\r\n",
      "Send2Trash                        1.8.0\r\n",
      "service-identity                  18.1.0\r\n",
      "setuptools                        67.7.2\r\n",
      "simpledbf                         0.2.6\r\n",
      "sip                               6.6.2\r\n",
      "six                               1.16.0\r\n",
      "smart-open                        5.2.1\r\n",
      "sniffio                           1.2.0\r\n",
      "snowballstemmer                   2.2.0\r\n",
      "sortedcontainers                  2.4.0\r\n",
      "soupsieve                         2.4\r\n",
      "spacy                             3.6.0\r\n",
      "spacy-legacy                      3.0.12\r\n",
      "spacy-loggers                     1.0.4\r\n",
      "spark-df-profiling                1.1.13\r\n",
      "Sphinx                            5.0.2\r\n",
      "sphinxcontrib-applehelp           1.0.2\r\n",
      "sphinxcontrib-devhelp             1.0.2\r\n",
      "sphinxcontrib-htmlhelp            2.0.0\r\n",
      "sphinxcontrib-jsmath              1.0.1\r\n",
      "sphinxcontrib-qthelp              1.0.3\r\n",
      "sphinxcontrib-serializinghtml     1.1.5\r\n",
      "spicy                             0.16.0\r\n"
     ]
    },
    {
     "name": "stdout",
     "output_type": "stream",
     "text": [
      "spyder                            5.4.1\r\n",
      "spyder-kernels                    2.4.1\r\n",
      "SQLAlchemy                        1.4.44\r\n",
      "sqlalchemy-teradata               0.9.0.dev0\r\n",
      "srsly                             2.4.7\r\n",
      "stack-data                        0.2.0\r\n",
      "statsmodels                       0.13.5\r\n",
      "sympy                             1.11.1\r\n",
      "tables                            3.7.0\r\n",
      "tabulate                          0.8.10\r\n",
      "tangled-up-in-unicode             0.2.0\r\n",
      "TBB                               0.2\r\n",
      "tblib                             1.7.0\r\n",
      "tenacity                          8.0.1\r\n",
      "teradata                          15.10.0.21\r\n",
      "teradataml                        17.20.0.2\r\n",
      "teradatasql                       17.20.0.19\r\n",
      "teradatasqlalchemy                17.0.0.5\r\n",
      "terminado                         0.17.1\r\n",
      "text-unidecode                    1.3\r\n",
      "textdistance                      4.2.1\r\n",
      "thinc                             8.1.10\r\n",
      "threadpoolctl                     2.2.0\r\n",
      "three-merge                       0.1.1\r\n",
      "tifffile                          2021.7.2\r\n",
      "tinycss2                          1.2.1\r\n",
      "tldextract                        3.2.0\r\n",
      "tokenizers                        0.13.2\r\n",
      "toml                              0.10.2\r\n",
      "tomli                             2.0.1\r\n",
      "tomlkit                           0.11.1\r\n",
      "toolz                             0.12.0\r\n",
      "torch                             1.12.1\r\n",
      "tornado                           6.1\r\n",
      "tqdm                              4.65.0\r\n",
      "traitlets                         5.7.1\r\n",
      "transformers                      4.24.0\r\n",
      "Twisted                           22.2.0\r\n",
      "typeguard                         2.13.3\r\n",
      "typer                             0.9.0\r\n",
      "typing_extensions                 4.7.1\r\n",
      "tzdata                            2023.3\r\n",
      "ujson                             5.4.0\r\n",
      "Unidecode                         1.2.0\r\n",
      "urllib3                           1.26.14\r\n",
      "visions                           0.7.5\r\n",
      "w3lib                             1.21.0\r\n",
      "wasabi                            1.1.2\r\n",
      "watchdog                          2.1.6\r\n",
      "waterfallcharts                   3.8\r\n",
      "wcwidth                           0.2.5\r\n",
      "webencodings                      0.5.1\r\n",
      "websocket-client                  0.58.0\r\n",
      "Werkzeug                          2.2.2\r\n",
      "whatthepatch                      1.0.2\r\n",
      "wheel                             0.38.4\r\n",
      "widgetsnbextension                4.0.5\r\n",
      "wordcloud                         1.9.2\r\n",
      "wrapt                             1.14.1\r\n",
      "wurlitzer                         3.0.2\r\n",
      "xarray                            2022.11.0\r\n",
      "xlwings                           0.29.1\r\n",
      "y-py                              0.5.9\r\n",
      "yapf                              0.31.0\r\n",
      "yarl                              1.9.2\r\n",
      "ydata-profiling                   4.0.0\r\n",
      "ypy-websocket                     0.8.2\r\n",
      "zict                              2.2.0\r\n",
      "zipp                              3.11.0\r\n",
      "zope.interface                    5.4.0\r\n",
      "zstandard                         0.19.0\r\n"
     ]
    }
   ],
   "source": [
    "!pip list"
   ]
  },
  {
   "cell_type": "markdown",
   "id": "88b35599",
   "metadata": {},
   "source": [
    "# Guidelines for Prompting\n",
    "In this lesson, you'll practice two prompting principles and their related tactics in order to write effective prompts for large language models.\n",
    "\n",
    "## Setup\n",
    "#### Load the API key and relevant Python libaries."
   ]
  },
  {
   "cell_type": "code",
   "execution_count": 2,
   "id": "4b2f8db1",
   "metadata": {
    "ExecuteTime": {
     "end_time": "2023-09-16T14:11:47.557973Z",
     "start_time": "2023-09-16T14:11:46.063276Z"
    }
   },
   "outputs": [],
   "source": [
    "import openai\n",
    "import os\n",
    "\n",
    "from dotenv import load_dotenv, find_dotenv\n",
    "_ = load_dotenv(find_dotenv())\n",
    "\n",
    "openai.api_key  = os.getenv('OPENAI_API_KEY')"
   ]
  },
  {
   "cell_type": "markdown",
   "id": "aabf2d4f",
   "metadata": {},
   "source": [
    "#### helper function\n",
    "Throughout this course, we will use OpenAI's `gpt-3.5-turbo` model and the [chat completions endpoint](https://platform.openai.com/docs/guides/chat). \n",
    "\n",
    "This helper function will make it easier to use prompts and look at the generated outputs:"
   ]
  },
  {
   "cell_type": "code",
   "execution_count": 3,
   "id": "f3ffd006",
   "metadata": {
    "ExecuteTime": {
     "end_time": "2023-09-16T14:11:47.564752Z",
     "start_time": "2023-09-16T14:11:47.560637Z"
    }
   },
   "outputs": [],
   "source": [
    "def get_completion(prompt, model=\"gpt-3.5-turbo\"):\n",
    "    messages = [{\"role\": \"user\", \"content\": prompt}]\n",
    "    response = openai.ChatCompletion.create(\n",
    "        model=model,\n",
    "        messages=messages,\n",
    "        temperature=0, # this is the degree of randomness of the model's output\n",
    "    )\n",
    "    return response.choices[0].message[\"content\"]"
   ]
  },
  {
   "cell_type": "markdown",
   "id": "939e6707",
   "metadata": {},
   "source": [
    "## Prompting Principles\n",
    "- **Principle 1: Write clear and specific instructions**\n",
    "    - Tatic1: Use delimiters\n",
    "        - Triple quotes: \"\"\",\n",
    "        - Triple braquets: ```,\n",
    "        - Triple dashes: ---,\n",
    "        - Angle brackets: <>,\n",
    "        - XML tags: <tag> <tag/>\n",
    "\n",
    "    - Tatic2: Ask for structered outpu HTML, JSON\n",
    "    - Tatic3: Check wether conditions are satisfied. Check assumptions required to do the task\n",
    "    - Tatic4: Few-shot prompting. Give sucessful of completing task. Then ask to the modelo to perform task\n",
    "    \n",
    "- **Principle 2: Give the model time to “think”**\n",
    "    - Tatic1: Specify the steps required to complete a task\n",
    "    - Tatic2: Instruct the model to work out its own solution before rushing to a conclusion\n",
    "    \n",
    "### Tactics\n",
    "\n",
    "#### Tactic 1: Use delimiters to clearly indicate distinct parts of the input\n",
    "- Delimiters can be anything like: ```, \"\"\", < >, `<tag> </tag>`, `:`"
   ]
  },
  {
   "cell_type": "code",
   "execution_count": 4,
   "id": "6f485d9b",
   "metadata": {
    "ExecuteTime": {
     "end_time": "2023-09-16T14:11:50.609031Z",
     "start_time": "2023-09-16T14:11:47.568139Z"
    }
   },
   "outputs": [
    {
     "name": "stdout",
     "output_type": "stream",
     "text": [
      "To guide a model towards the desired output and reduce irrelevant or incorrect responses, it is important to provide clear and specific instructions, which can be achieved through longer prompts that offer more clarity and context.\n"
     ]
    }
   ],
   "source": [
    "text = f\"\"\"\n",
    "You should express what you want a model to do by \\ \n",
    "providing instructions that are as clear and \\ \n",
    "specific as you can possibly make them. \\ \n",
    "This will guide the model towards the desired output, \\ \n",
    "and reduce the chances of receiving irrelevant \\ \n",
    "or incorrect responses. Don't confuse writing a \\ \n",
    "clear prompt with writing a short prompt. \\ \n",
    "In many cases, longer prompts provide more clarity \\ \n",
    "and context for the model, which can lead to \\ \n",
    "more detailed and relevant outputs.\n",
    "\"\"\"\n",
    "prompt = f\"\"\"\n",
    "Summarize the text delimited by triple backticks \\ \n",
    "into a single sentence.\n",
    "```{text}```\n",
    "\"\"\"\n",
    "response = get_completion(prompt)\n",
    "print(response)"
   ]
  },
  {
   "cell_type": "markdown",
   "id": "f240126d",
   "metadata": {
    "ExecuteTime": {
     "end_time": "2023-09-16T14:09:19.819656Z",
     "start_time": "2023-09-16T14:09:19.799201Z"
    }
   },
   "source": [
    "#### Tactic 2: Ask for a structured output\n",
    "- JSON, HTML"
   ]
  },
  {
   "cell_type": "code",
   "execution_count": 5,
   "id": "bdcba870",
   "metadata": {
    "ExecuteTime": {
     "end_time": "2023-09-16T14:11:56.447726Z",
     "start_time": "2023-09-16T14:11:50.612696Z"
    }
   },
   "outputs": [
    {
     "name": "stdout",
     "output_type": "stream",
     "text": [
      "{\n",
      "  \"books\": [\n",
      "    {\n",
      "      \"book_id\": 1,\n",
      "      \"title\": \"The Enigma of Elysium\",\n",
      "      \"author\": \"Evelyn Sinclair\",\n",
      "      \"genre\": \"Mystery\"\n",
      "    },\n",
      "    {\n",
      "      \"book_id\": 2,\n",
      "      \"title\": \"Whispers in the Wind\",\n",
      "      \"author\": \"Nathaniel Blackwood\",\n",
      "      \"genre\": \"Fantasy\"\n",
      "    },\n",
      "    {\n",
      "      \"book_id\": 3,\n",
      "      \"title\": \"Echoes of the Past\",\n",
      "      \"author\": \"Amelia Hart\",\n",
      "      \"genre\": \"Romance\"\n",
      "    }\n",
      "  ]\n",
      "}\n"
     ]
    }
   ],
   "source": [
    "prompt = f\"\"\"\n",
    "Generate a list of three made-up book titles along \\ \n",
    "with their authors and genres. \n",
    "Provide them in JSON format with the following keys: \n",
    "book_id, title, author, genre.\n",
    "\"\"\"\n",
    "response = get_completion(prompt)\n",
    "print(response)"
   ]
  },
  {
   "cell_type": "markdown",
   "id": "982a45c8",
   "metadata": {},
   "source": [
    "#### Tactic 3: Ask the model to check whether conditions are satisfied"
   ]
  },
  {
   "cell_type": "code",
   "execution_count": 6,
   "id": "3bb1f250",
   "metadata": {
    "ExecuteTime": {
     "end_time": "2023-09-16T14:12:00.612912Z",
     "start_time": "2023-09-16T14:11:56.450770Z"
    }
   },
   "outputs": [
    {
     "name": "stdout",
     "output_type": "stream",
     "text": [
      "Completion for Text 1:\n",
      "Step 1 - Get some water boiling.\n",
      "Step 2 - Grab a cup and put a tea bag in it.\n",
      "Step 3 - Once the water is hot enough, pour it over the tea bag.\n",
      "Step 4 - Let it sit for a bit so the tea can steep.\n",
      "Step 5 - After a few minutes, take out the tea bag.\n",
      "Step 6 - If you like, add some sugar or milk to taste.\n",
      "Step 7 - Enjoy your delicious cup of tea.\n"
     ]
    }
   ],
   "source": [
    "text_1 = f\"\"\"\n",
    "Making a cup of tea is easy! First, you need to get some \\ \n",
    "water boiling. While that's happening, \\ \n",
    "grab a cup and put a tea bag in it. Once the water is \\ \n",
    "hot enough, just pour it over the tea bag. \\ \n",
    "Let it sit for a bit so the tea can steep. After a \\ \n",
    "few minutes, take out the tea bag. If you \\ \n",
    "like, you can add some sugar or milk to taste. \\ \n",
    "And that's it! You've got yourself a delicious \\ \n",
    "cup of tea to enjoy.\n",
    "\"\"\"\n",
    "prompt = f\"\"\"\n",
    "You will be provided with text delimited by triple quotes. \n",
    "If it contains a sequence of instructions, \\ \n",
    "re-write those instructions in the following format:\n",
    "\n",
    "Step 1 - ...\n",
    "Step 2 - …\n",
    "…\n",
    "Step N - …\n",
    "\n",
    "If the text does not contain a sequence of instructions, \\ \n",
    "then simply write \\\"No steps provided.\\\"\n",
    "\n",
    "\\\"\\\"\\\"{text_1}\\\"\\\"\\\"\n",
    "\"\"\"\n",
    "response = get_completion(prompt)\n",
    "print(\"Completion for Text 1:\")\n",
    "print(response)"
   ]
  },
  {
   "cell_type": "code",
   "execution_count": 7,
   "id": "3dee5f24",
   "metadata": {
    "ExecuteTime": {
     "end_time": "2023-09-16T14:12:01.251105Z",
     "start_time": "2023-09-16T14:12:00.615264Z"
    }
   },
   "outputs": [
    {
     "name": "stdout",
     "output_type": "stream",
     "text": [
      "Completion for Text 2:\n",
      "No steps provided.\n"
     ]
    }
   ],
   "source": [
    "text_2 = f\"\"\"\n",
    "The sun is shining brightly today, and the birds are \\\n",
    "singing. It's a beautiful day to go for a \\ \n",
    "walk in the park. The flowers are blooming, and the \\ \n",
    "trees are swaying gently in the breeze. People \\ \n",
    "are out and about, enjoying the lovely weather. \\ \n",
    "Some are having picnics, while others are playing \\ \n",
    "games or simply relaxing on the grass. It's a \\ \n",
    "perfect day to spend time outdoors and appreciate the \\ \n",
    "beauty of nature.\n",
    "\"\"\"\n",
    "prompt = f\"\"\"\n",
    "You will be provided with text delimited by triple quotes. \n",
    "If it contains a sequence of instructions, \\ \n",
    "re-write those instructions in the following format:\n",
    "\n",
    "Step 1 - ...\n",
    "Step 2 - …\n",
    "…\n",
    "Step N - …\n",
    "\n",
    "If the text does not contain a sequence of instructions, \\ \n",
    "then simply write \\\"No steps provided.\\\"\n",
    "\n",
    "\\\"\\\"\\\"{text_2}\\\"\\\"\\\"\n",
    "\"\"\"\n",
    "response = get_completion(prompt)\n",
    "print(\"Completion for Text 2:\")\n",
    "print(response)"
   ]
  },
  {
   "cell_type": "markdown",
   "id": "e74d1f68",
   "metadata": {},
   "source": [
    "#### Tactic 4: \"Few-shot\" prompting"
   ]
  },
  {
   "cell_type": "code",
   "execution_count": 8,
   "id": "1e8a99ab",
   "metadata": {
    "ExecuteTime": {
     "end_time": "2023-09-16T14:15:28.741743Z",
     "start_time": "2023-09-16T14:15:23.980339Z"
    }
   },
   "outputs": [
    {
     "name": "stdout",
     "output_type": "stream",
     "text": [
      "<grandparent>: Resilience is like a mighty oak tree that withstands the strongest storms, bending but never breaking. It is the unwavering determination to rise again after every fall, and the ability to find strength in the face of adversity. Just as a diamond is formed under immense pressure, resilience is forged through challenges and hardships, making us stronger and more resilient in the process.\n"
     ]
    }
   ],
   "source": [
    "prompt = f\"\"\"\n",
    "Your task is to answer in a consistent style.\n",
    "\n",
    "<child>: Teach me about patience.\n",
    "\n",
    "<grandparent>: The river that carves the deepest \\ \n",
    "valley flows from a modest spring; the \\ \n",
    "grandest symphony originates from a single note; \\ \n",
    "the most intricate tapestry begins with a solitary thread.\n",
    "\n",
    "<child>: Teach me about resilience.\n",
    "\"\"\"\n",
    "response = get_completion(prompt)\n",
    "print(response)"
   ]
  },
  {
   "cell_type": "markdown",
   "id": "984da044",
   "metadata": {},
   "source": [
    "### Principle 2: Give the model time to “think” \n",
    "\n",
    "#### Tactic 1: Specify the steps required to complete a task"
   ]
  },
  {
   "cell_type": "code",
   "execution_count": 9,
   "id": "f9a896c8",
   "metadata": {
    "ExecuteTime": {
     "end_time": "2023-09-16T14:16:15.717203Z",
     "start_time": "2023-09-16T14:16:06.033640Z"
    }
   },
   "outputs": [
    {
     "name": "stdout",
     "output_type": "stream",
     "text": [
      "Completion for prompt 1:\n",
      "1 - Jack and Jill, siblings, go on a quest to fetch water from a hilltop well, but encounter misfortune when Jack trips on a stone and tumbles down the hill, with Jill following suit, yet they return home and remain undeterred in their adventurous spirits.\n",
      "\n",
      "2 - Jack et Jill, frère et sœur, partent en quête d'eau d'un puits au sommet d'une colline, mais rencontrent un malheur lorsque Jack trébuche sur une pierre et dévale la colline, suivi par Jill, pourtant ils rentrent chez eux et restent déterminés dans leur esprit d'aventure.\n",
      "\n",
      "3 - Jack, Jill\n",
      "\n",
      "4 - {\n",
      "  \"french_summary\": \"Jack et Jill, frère et sœur, partent en quête d'eau d'un puits au sommet d'une colline, mais rencontrent un malheur lorsque Jack trébuche sur une pierre et dévale la colline, suivi par Jill, pourtant ils rentrent chez eux et restent déterminés dans leur esprit d'aventure.\",\n",
      "  \"num_names\": 2\n",
      "}\n"
     ]
    }
   ],
   "source": [
    "text = f\"\"\"\n",
    "In a charming village, siblings Jack and Jill set out on \\ \n",
    "a quest to fetch water from a hilltop \\ \n",
    "well. As they climbed, singing joyfully, misfortune \\ \n",
    "struck—Jack tripped on a stone and tumbled \\ \n",
    "down the hill, with Jill following suit. \\ \n",
    "Though slightly battered, the pair returned home to \\ \n",
    "comforting embraces. Despite the mishap, \\ \n",
    "their adventurous spirits remained undimmed, and they \\ \n",
    "continued exploring with delight.\n",
    "\"\"\"\n",
    "# example 1\n",
    "prompt_1 = f\"\"\"\n",
    "Perform the following actions: \n",
    "1 - Summarize the following text delimited by triple \\\n",
    "backticks with 1 sentence.\n",
    "2 - Translate the summary into French.\n",
    "3 - List each name in the French summary.\n",
    "4 - Output a json object that contains the following \\\n",
    "keys: french_summary, num_names.\n",
    "\n",
    "Separate your answers with line breaks.\n",
    "\n",
    "Text:\n",
    "```{text}```\n",
    "\"\"\"\n",
    "response = get_completion(prompt_1)\n",
    "print(\"Completion for prompt 1:\")\n",
    "print(response)"
   ]
  },
  {
   "cell_type": "markdown",
   "id": "877eed4a",
   "metadata": {
    "hide_input": true
   },
   "source": [
    "#### Ask for output in a specified format"
   ]
  },
  {
   "cell_type": "code",
   "execution_count": 10,
   "id": "031c3707",
   "metadata": {
    "ExecuteTime": {
     "end_time": "2023-09-16T14:18:00.811432Z",
     "start_time": "2023-09-16T14:17:54.843553Z"
    }
   },
   "outputs": [
    {
     "name": "stdout",
     "output_type": "stream",
     "text": [
      "\n",
      "Completion for prompt 2:\n",
      "Summary: Jack and Jill, siblings, go on a quest to fetch water from a hilltop well but encounter misfortune along the way.\n",
      "\n",
      "Translation: Jack et Jill, frère et sœur, partent en quête d'eau d'un puits au sommet d'une colline mais rencontrent des malheurs en chemin.\n",
      "\n",
      "Names: Jack, Jill\n",
      "\n",
      "Output JSON: {\"french_summary\": \"Jack et Jill, frère et sœur, partent en quête d'eau d'un puits au sommet d'une colline mais rencontrent des malheurs en chemin.\", \"num_names\": 2}\n"
     ]
    }
   ],
   "source": [
    "prompt_2 = f\"\"\"\n",
    "Your task is to perform the following actions: \n",
    "1 - Summarize the following text delimited by \n",
    "  <> with 1 sentence.\n",
    "2 - Translate the summary into French.\n",
    "3 - List each name in the French summary.\n",
    "4 - Output a json object that contains the \n",
    "  following keys: french_summary, num_names.\n",
    "\n",
    "Use the following format:\n",
    "Text: <text to summarize>\n",
    "Summary: <summary>\n",
    "Translation: <summary translation>\n",
    "Names: <list of names in Italian summary>\n",
    "Output JSON: <json with summary and num_names>\n",
    "\n",
    "Text: <{text}>\n",
    "\"\"\"\n",
    "response = get_completion(prompt_2)\n",
    "print(\"\\nCompletion for prompt 2:\")\n",
    "print(response)"
   ]
  },
  {
   "cell_type": "markdown",
   "id": "31a89e92",
   "metadata": {},
   "source": [
    "#### Tactic 2: Instruct the model to work out its own solution before rushing to a conclusion"
   ]
  },
  {
   "cell_type": "code",
   "execution_count": 11,
   "id": "416f2c41",
   "metadata": {
    "ExecuteTime": {
     "end_time": "2023-09-16T14:18:44.147659Z",
     "start_time": "2023-09-16T14:18:41.305325Z"
    }
   },
   "outputs": [
    {
     "name": "stdout",
     "output_type": "stream",
     "text": [
      "The student's solution is correct. They correctly identified the costs for land, solar panels, and maintenance, and calculated the total cost as a function of the number of square feet.\n"
     ]
    }
   ],
   "source": [
    "prompt = f\"\"\"\n",
    "Determine if the student's solution is correct or not.\n",
    "\n",
    "Question:\n",
    "I'm building a solar power installation and I need \\\n",
    " help working out the financials. \n",
    "- Land costs $100 / square foot\n",
    "- I can buy solar panels for $250 / square foot\n",
    "- I negotiated a contract for maintenance that will cost \\ \n",
    "me a flat $100k per year, and an additional $10 / square \\\n",
    "foot\n",
    "What is the total cost for the first year of operations \n",
    "as a function of the number of square feet.\n",
    "\n",
    "Student's Solution:\n",
    "Let x be the size of the installation in square feet.\n",
    "Costs:\n",
    "1. Land cost: 100x\n",
    "2. Solar panel cost: 250x\n",
    "3. Maintenance cost: 100,000 + 100x\n",
    "Total cost: 100x + 250x + 100,000 + 100x = 450x + 100,000\n",
    "\"\"\"\n",
    "response = get_completion(prompt)\n",
    "print(response)"
   ]
  },
  {
   "cell_type": "markdown",
   "id": "2b9ecec0",
   "metadata": {},
   "source": [
    "#### Notes on using the OpenAI API outside of this classroom\n",
    "\n",
    "To install the OpenAI Python library:\n",
    "```\n",
    "!pip install openai\n",
    "```\n",
    "\n",
    "The library needs to be configured with your account's secret key, which is available on the [website](https://platform.openai.com/account/api-keys). \n",
    "\n",
    "You can either set it as the `OPENAI_API_KEY` environment variable before using the library:\n",
    " ```\n",
    " !export OPENAI_API_KEY='sk-...'\n",
    " ```\n",
    "\n",
    "Or, set `openai.api_key` to its value:\n",
    "\n",
    "```\n",
    "import openai\n",
    "openai.api_key = \"sk-...\"\n",
    "```"
   ]
  },
  {
   "cell_type": "markdown",
   "id": "9620f360",
   "metadata": {},
   "source": [
    "#### A note about the backslash\n",
    "- In the course, we are using a backslash `\\` to make the text fit on the screen without inserting newline '\\n' characters.\n",
    "- GPT-3 isn't really affected whether you insert newline characters or not.  But when working with LLMs in general, you may consider whether newline characters in your prompt may affect the model's performance."
   ]
  },
  {
   "cell_type": "markdown",
   "id": "21c3892b",
   "metadata": {},
   "source": [
    "### Model Limitations\n",
    "\n",
    "- Hallucination\n",
    "- Make statements that sounds plausible but are not true\n",
    "\n",
    "- Reducing hallucinations: \n",
    "    - First find relevant information\n",
    "    - then answer the question\n",
    "    - based on the relevant information\n"
   ]
  },
  {
   "cell_type": "code",
   "execution_count": null,
   "id": "ef88e271",
   "metadata": {},
   "outputs": [],
   "source": []
  },
  {
   "cell_type": "code",
   "execution_count": null,
   "id": "ce9fa48a",
   "metadata": {},
   "outputs": [],
   "source": []
  },
  {
   "cell_type": "code",
   "execution_count": null,
   "id": "956e8b52",
   "metadata": {},
   "outputs": [],
   "source": []
  },
  {
   "cell_type": "code",
   "execution_count": null,
   "id": "f82355ee",
   "metadata": {},
   "outputs": [],
   "source": []
  },
  {
   "cell_type": "code",
   "execution_count": null,
   "id": "b3e86a8d",
   "metadata": {},
   "outputs": [],
   "source": []
  },
  {
   "cell_type": "code",
   "execution_count": null,
   "id": "6360a490",
   "metadata": {},
   "outputs": [],
   "source": []
  },
  {
   "cell_type": "code",
   "execution_count": null,
   "id": "e3638383",
   "metadata": {},
   "outputs": [],
   "source": []
  }
 ],
 "metadata": {
  "hide_input": false,
  "kernelspec": {
   "display_name": "Python 3 (ipykernel)",
   "language": "python",
   "name": "python3"
  },
  "language_info": {
   "codemirror_mode": {
    "name": "ipython",
    "version": 3
   },
   "file_extension": ".py",
   "mimetype": "text/x-python",
   "name": "python",
   "nbconvert_exporter": "python",
   "pygments_lexer": "ipython3",
   "version": "3.10.12"
  },
  "toc": {
   "base_numbering": 1,
   "nav_menu": {},
   "number_sections": false,
   "sideBar": true,
   "skip_h1_title": false,
   "title_cell": "Table of Contents",
   "title_sidebar": "Contents",
   "toc_cell": false,
   "toc_position": {
    "height": "calc(100% - 180px)",
    "left": "10px",
    "top": "150px",
    "width": "721.4px"
   },
   "toc_section_display": true,
   "toc_window_display": true
  }
 },
 "nbformat": 4,
 "nbformat_minor": 5
}
