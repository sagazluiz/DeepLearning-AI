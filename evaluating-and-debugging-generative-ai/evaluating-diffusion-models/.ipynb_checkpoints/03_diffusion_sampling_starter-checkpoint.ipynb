{
 "cells": [
  {
   "cell_type": "markdown",
   "metadata": {},
   "source": [
    "source: https://learn.deeplearning.ai/evaluating-debugging-generative-ai/lesson/4/evaluating-diffusion-models"
   ]
  },
  {
   "cell_type": "markdown",
   "metadata": {
    "ExecuteTime": {
     "end_time": "2023-12-02T19:06:22.373152Z",
     "start_time": "2023-12-02T19:06:22.362852Z"
    }
   },
   "source": [
    "# Sampling from a diffusion model\n",
    "\n",
    "<!--- @wandbcode{dlai_03} -->\n",
    "\n",
    "In this notebook we will sample from the previously trained diffusion model.\n",
    "- We are going to compare the samples from DDPM and DDIM samplers\n",
    "- Visualize mixing samples with conditional diffusion models"
   ]
  },
  {
   "cell_type": "code",
   "execution_count": 1,
   "metadata": {
    "ExecuteTime": {
     "end_time": "2023-12-02T19:37:54.662749Z",
     "start_time": "2023-12-02T19:37:49.420614Z"
    }
   },
   "outputs": [],
   "source": [
    "from pathlib import Path\n",
    "from types import SimpleNamespace\n",
    "import torch\n",
    "import torch.nn.functional as F\n",
    "import numpy as np\n",
    "from utilities import *\n",
    "\n",
    "import wandb"
   ]
  },
  {
   "cell_type": "code",
   "execution_count": 2,
   "metadata": {
    "ExecuteTime": {
     "end_time": "2023-12-02T19:37:58.589975Z",
     "start_time": "2023-12-02T19:37:56.161119Z"
    }
   },
   "outputs": [
    {
     "name": "stderr",
     "output_type": "stream",
     "text": [
      "\u001b[34m\u001b[1mwandb\u001b[0m: Currently logged in as: \u001b[33mfabio-bd-araujo\u001b[0m. Use \u001b[1m`wandb login --relogin`\u001b[0m to force relogin\n"
     ]
    },
    {
     "data": {
      "text/plain": [
       "True"
      ]
     },
     "execution_count": 2,
     "metadata": {},
     "output_type": "execute_result"
    }
   ],
   "source": [
    "wandb.login(anonymous=\"allow\")"
   ]
  },
  {
   "cell_type": "markdown",
   "metadata": {},
   "source": [
    "# Setting Things Up"
   ]
  },
  {
   "cell_type": "code",
   "execution_count": 3,
   "metadata": {
    "ExecuteTime": {
     "end_time": "2023-12-02T19:38:01.991750Z",
     "start_time": "2023-12-02T19:38:01.987474Z"
    }
   },
   "outputs": [],
   "source": [
    "# Wandb Params\n",
    "MODEL_ARTIFACT = \"fabio-bd-araujo/model-registry/dlai-course_model-registry_SpriteGen:v0\"\n",
    "DEVICE = \"cuda\" if torch.cuda.is_available() else \"cpu\"\n",
    "\n",
    "config = SimpleNamespace(\n",
    "    # hyperparameters\n",
    "    num_samples = 30,\n",
    "    \n",
    "    # ddpm sampler hyperparameters\n",
    "    timesteps = 500,\n",
    "    beta1 = 1e-4,\n",
    "    beta2 = 0.02,\n",
    "    \n",
    "    # ddim sampler hp\n",
    "    ddim_n = 25,\n",
    "    \n",
    "    # network hyperparameters\n",
    "    height = 16,\n",
    ")"
   ]
  },
  {
   "cell_type": "markdown",
   "metadata": {},
   "source": [
    "In the previous notebook we saved the best model as a wandb Artifact (our way of storing files during runs). We will now load the model from wandb and set up the sampling loop."
   ]
  },
  {
   "cell_type": "code",
   "execution_count": 4,
   "metadata": {
    "ExecuteTime": {
     "end_time": "2023-12-02T19:38:44.900156Z",
     "start_time": "2023-12-02T19:38:44.894513Z"
    }
   },
   "outputs": [],
   "source": [
    "def load_model(model_artifact_name):\n",
    "    \"Load the model from wandb artifacts\"\n",
    "    api = wandb.Api()\n",
    "    artifact = api.artifact(model_artifact_name, type=\"model\")\n",
    "    model_path = Path(artifact.download())\n",
    "\n",
    "    # recover model info from the registry\n",
    "    producer_run = artifact.logged_by()\n",
    "\n",
    "    # load the weights dictionary\n",
    "    model_weights = torch.load(model_path/\"context_model.pth\", \n",
    "                               map_location=\"cpu\")\n",
    "\n",
    "    # create the model\n",
    "    model = ContextUnet(in_channels=3, \n",
    "                        n_feat=producer_run.config[\"n_feat\"], \n",
    "                        n_cfeat=producer_run.config[\"n_cfeat\"], \n",
    "                        height=producer_run.config[\"height\"])\n",
    "    \n",
    "    # load the weights into the model\n",
    "    model.load_state_dict(model_weights)\n",
    "\n",
    "    # set the model to eval mode\n",
    "    model.eval()\n",
    "    return model.to(DEVICE)"
   ]
  },
  {
   "cell_type": "code",
   "execution_count": 5,
   "metadata": {
    "ExecuteTime": {
     "end_time": "2023-12-02T19:39:13.260829Z",
     "start_time": "2023-12-02T19:38:46.649354Z"
    }
   },
   "outputs": [
    {
     "name": "stderr",
     "output_type": "stream",
     "text": [
      "\u001b[34m\u001b[1mwandb\u001b[0m:   1 of 1 files downloaded.  \n"
     ]
    }
   ],
   "source": [
    "nn_model = load_model(MODEL_ARTIFACT)"
   ]
  },
  {
   "cell_type": "markdown",
   "metadata": {},
   "source": [
    "## Sampling"
   ]
  },
  {
   "cell_type": "markdown",
   "metadata": {},
   "source": [
    "We will sample and log the generated samples to wandb."
   ]
  },
  {
   "cell_type": "code",
   "execution_count": 6,
   "metadata": {
    "ExecuteTime": {
     "end_time": "2023-12-02T19:39:20.343998Z",
     "start_time": "2023-12-02T19:39:20.321244Z"
    }
   },
   "outputs": [],
   "source": [
    "_, sample_ddpm_context = setup_ddpm(config.beta1, \n",
    "                                    config.beta2, \n",
    "                                    config.timesteps, \n",
    "                                    DEVICE)"
   ]
  },
  {
   "cell_type": "markdown",
   "metadata": {},
   "source": [
    "Let's define a set of noises and a context vector to condition on."
   ]
  },
  {
   "cell_type": "code",
   "execution_count": 7,
   "metadata": {
    "ExecuteTime": {
     "end_time": "2023-12-02T19:39:30.875077Z",
     "start_time": "2023-12-02T19:39:30.861655Z"
    }
   },
   "outputs": [],
   "source": [
    "# Noise vector\n",
    "# x_T ~ N(0, 1), sample initial noise\n",
    "noises = torch.randn(config.num_samples, 3, \n",
    "                     config.height, config.height).to(DEVICE)  \n",
    "\n",
    "# A fixed context vector to sample from\n",
    "ctx_vector = F.one_hot(torch.tensor([0,0,0,0,0,0,   # hero\n",
    "                                     1,1,1,1,1,1,   # non-hero\n",
    "                                     2,2,2,2,2,2,   # food\n",
    "                                     3,3,3,3,3,3,   # spell\n",
    "                                     4,4,4,4,4,4]), # side-facing \n",
    "                       5).to(DEVICE).float()"
   ]
  },
  {
   "cell_type": "markdown",
   "metadata": {},
   "source": [
    "Let's bring that faster DDIM sampler from the diffusion course."
   ]
  },
  {
   "cell_type": "code",
   "execution_count": 8,
   "metadata": {
    "ExecuteTime": {
     "end_time": "2023-12-02T19:39:36.468196Z",
     "start_time": "2023-12-02T19:39:36.464555Z"
    }
   },
   "outputs": [],
   "source": [
    "sample_ddim_context = setup_ddim(config.beta1, \n",
    "                                 config.beta2, \n",
    "                                 config.timesteps, \n",
    "                                 DEVICE)"
   ]
  },
  {
   "cell_type": "markdown",
   "metadata": {},
   "source": [
    "### Sampling:\n",
    "let's compute ddpm samples as before"
   ]
  },
  {
   "cell_type": "code",
   "execution_count": 9,
   "metadata": {
    "ExecuteTime": {
     "end_time": "2023-12-02T19:40:08.693927Z",
     "start_time": "2023-12-02T19:39:40.322938Z"
    }
   },
   "outputs": [
    {
     "data": {
      "application/vnd.jupyter.widget-view+json": {
       "model_id": "",
       "version_major": 2,
       "version_minor": 0
      },
      "text/plain": [
       "  0%|          | 0/500 [00:00<?, ?it/s]"
      ]
     },
     "metadata": {},
     "output_type": "display_data"
    }
   ],
   "source": [
    "ddpm_samples, _ = sample_ddpm_context(nn_model, noises, ctx_vector)"
   ]
  },
  {
   "cell_type": "markdown",
   "metadata": {},
   "source": [
    "For DDIM we can control the step size by the `n` param:"
   ]
  },
  {
   "cell_type": "code",
   "execution_count": 10,
   "metadata": {
    "ExecuteTime": {
     "end_time": "2023-12-02T19:40:14.230594Z",
     "start_time": "2023-12-02T19:40:12.857923Z"
    }
   },
   "outputs": [
    {
     "data": {
      "application/vnd.jupyter.widget-view+json": {
       "model_id": "",
       "version_major": 2,
       "version_minor": 0
      },
      "text/plain": [
       "  0%|          | 0/25 [00:00<?, ?it/s]"
      ]
     },
     "metadata": {},
     "output_type": "display_data"
    }
   ],
   "source": [
    "ddim_samples, _ = sample_ddim_context(nn_model, \n",
    "                                      noises, \n",
    "                                      ctx_vector, \n",
    "                                      n=config.ddim_n)"
   ]
  },
  {
   "cell_type": "markdown",
   "metadata": {},
   "source": [
    "### Visualizing generations on a Table\n",
    "Let's create a `wandb.Table` to store our generations"
   ]
  },
  {
   "cell_type": "code",
   "execution_count": 11,
   "metadata": {
    "ExecuteTime": {
     "end_time": "2023-12-02T19:40:19.296619Z",
     "start_time": "2023-12-02T19:40:19.293027Z"
    }
   },
   "outputs": [],
   "source": [
    "table = wandb.Table(columns=[\"input_noise\", \"ddpm\", \"ddim\", \"class\"])"
   ]
  },
  {
   "cell_type": "markdown",
   "metadata": {},
   "source": [
    "We can add the rows to the table one by one, we also cast images to `wandb.Image` so we can render them correctly in the UI"
   ]
  },
  {
   "cell_type": "code",
   "execution_count": 12,
   "metadata": {
    "ExecuteTime": {
     "end_time": "2023-12-02T19:40:22.864828Z",
     "start_time": "2023-12-02T19:40:22.735581Z"
    }
   },
   "outputs": [],
   "source": [
    "for noise, ddpm_s, ddim_s, c in zip(noises, \n",
    "                                    ddpm_samples, \n",
    "                                    ddim_samples, \n",
    "                                    to_classes(ctx_vector)):\n",
    "    \n",
    "    # add data row by row to the Table\n",
    "    table.add_data(wandb.Image(noise),\n",
    "                   wandb.Image(ddpm_s), \n",
    "                   wandb.Image(ddim_s),\n",
    "                   c)"
   ]
  },
  {
   "cell_type": "markdown",
   "metadata": {},
   "source": [
    "we log the table to W&B, we can also use `wandb.init` as a context manager, this way we ensure that the run is finished when exiting the manager."
   ]
  },
  {
   "cell_type": "code",
   "execution_count": 13,
   "metadata": {
    "ExecuteTime": {
     "end_time": "2023-12-02T19:41:01.509590Z",
     "start_time": "2023-12-02T19:40:29.225729Z"
    }
   },
   "outputs": [
    {
     "data": {
      "text/html": [
       "Tracking run with wandb version 0.16.0"
      ],
      "text/plain": [
       "<IPython.core.display.HTML object>"
      ]
     },
     "metadata": {},
     "output_type": "display_data"
    },
    {
     "data": {
      "text/html": [
       "Run data is saved locally in <code>/Users/r337555/Projects-Personal/DeepLearning-AI/evaluating-and-debugging-generative-ai/evaluating-diffusion-models/wandb/run-20231202_164029-jnlojm9d</code>"
      ],
      "text/plain": [
       "<IPython.core.display.HTML object>"
      ]
     },
     "metadata": {},
     "output_type": "display_data"
    },
    {
     "data": {
      "text/html": [
       "Syncing run <strong><a href='https://wandb.ai/fabio-bd-araujo/dlai_sprite_diffusion/runs/jnlojm9d' target=\"_blank\">wild-jazz-4</a></strong> to <a href='https://wandb.ai/fabio-bd-araujo/dlai_sprite_diffusion' target=\"_blank\">Weights & Biases</a> (<a href='https://wandb.me/run' target=\"_blank\">docs</a>)<br/>"
      ],
      "text/plain": [
       "<IPython.core.display.HTML object>"
      ]
     },
     "metadata": {},
     "output_type": "display_data"
    },
    {
     "data": {
      "text/html": [
       " View project at <a href='https://wandb.ai/fabio-bd-araujo/dlai_sprite_diffusion' target=\"_blank\">https://wandb.ai/fabio-bd-araujo/dlai_sprite_diffusion</a>"
      ],
      "text/plain": [
       "<IPython.core.display.HTML object>"
      ]
     },
     "metadata": {},
     "output_type": "display_data"
    },
    {
     "data": {
      "text/html": [
       " View run at <a href='https://wandb.ai/fabio-bd-araujo/dlai_sprite_diffusion/runs/jnlojm9d' target=\"_blank\">https://wandb.ai/fabio-bd-araujo/dlai_sprite_diffusion/runs/jnlojm9d</a>"
      ],
      "text/plain": [
       "<IPython.core.display.HTML object>"
      ]
     },
     "metadata": {},
     "output_type": "display_data"
    },
    {
     "data": {
      "application/vnd.jupyter.widget-view+json": {
       "model_id": "",
       "version_major": 2,
       "version_minor": 0
      },
      "text/plain": [
       "VBox(children=(Label(value='0.088 MB of 0.088 MB uploaded\\r'), FloatProgress(value=1.0, max=1.0)))"
      ]
     },
     "metadata": {},
     "output_type": "display_data"
    },
    {
     "data": {
      "text/html": [
       "W&B sync reduced upload amount by 3.3%             "
      ],
      "text/plain": [
       "<IPython.core.display.HTML object>"
      ]
     },
     "metadata": {},
     "output_type": "display_data"
    },
    {
     "data": {
      "text/html": [
       " View run <strong style=\"color:#cdcd00\">wild-jazz-4</strong> at: <a href='https://wandb.ai/fabio-bd-araujo/dlai_sprite_diffusion/runs/jnlojm9d' target=\"_blank\">https://wandb.ai/fabio-bd-araujo/dlai_sprite_diffusion/runs/jnlojm9d</a><br/> View job at <a href='https://wandb.ai/fabio-bd-araujo/dlai_sprite_diffusion/jobs/QXJ0aWZhY3RDb2xsZWN0aW9uOjEyMDM3MTgzMQ==/version_details/v1' target=\"_blank\">https://wandb.ai/fabio-bd-araujo/dlai_sprite_diffusion/jobs/QXJ0aWZhY3RDb2xsZWN0aW9uOjEyMDM3MTgzMQ==/version_details/v1</a><br/>Synced 5 W&B file(s), 1 media file(s), 93 artifact file(s) and 0 other file(s)"
      ],
      "text/plain": [
       "<IPython.core.display.HTML object>"
      ]
     },
     "metadata": {},
     "output_type": "display_data"
    },
    {
     "data": {
      "text/html": [
       "Find logs at: <code>./wandb/run-20231202_164029-jnlojm9d/logs</code>"
      ],
      "text/plain": [
       "<IPython.core.display.HTML object>"
      ]
     },
     "metadata": {},
     "output_type": "display_data"
    }
   ],
   "source": [
    "with wandb.init(project=\"dlai_sprite_diffusion\", \n",
    "                job_type=\"samplers_battle\", \n",
    "                config=config):\n",
    "    \n",
    "    wandb.log({\"samplers_table\":table})"
   ]
  },
  {
   "cell_type": "code",
   "execution_count": null,
   "metadata": {},
   "outputs": [],
   "source": []
  }
 ],
 "metadata": {
  "hide_input": false,
  "kernelspec": {
   "display_name": "Python 3 (ipykernel)",
   "language": "python",
   "name": "python3"
  },
  "language_info": {
   "codemirror_mode": {
    "name": "ipython",
    "version": 3
   },
   "file_extension": ".py",
   "mimetype": "text/x-python",
   "name": "python",
   "nbconvert_exporter": "python",
   "pygments_lexer": "ipython3",
   "version": "3.9.18"
  },
  "toc": {
   "base_numbering": 1,
   "nav_menu": {},
   "number_sections": true,
   "sideBar": true,
   "skip_h1_title": false,
   "title_cell": "Table of Contents",
   "title_sidebar": "Contents",
   "toc_cell": false,
   "toc_position": {},
   "toc_section_display": true,
   "toc_window_display": false
  }
 },
 "nbformat": 4,
 "nbformat_minor": 2
}
